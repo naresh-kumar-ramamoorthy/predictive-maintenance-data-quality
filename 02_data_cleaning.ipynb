{
 "cells": [
  {
   "cell_type": "code",
   "execution_count": 5,
   "id": "9a41735f-2b14-466c-9f6d-051e7026a7e8",
   "metadata": {},
   "outputs": [],
   "source": [
    "from sklearn.preprocessing import LabelEncoder\n",
    "import pandas as pd\n",
    "\n",
    "# Read raw data from the specified path\n",
    "df = pd.read_csv(r'C:\\Users\\Naresh\\OneDrive\\Desktop\\Rooman\\ai4i2020.csv')\n",
    "\n",
    "# Encode categorical feature 'Type' as integers\n",
    "le = LabelEncoder()\n",
    "df['Type'] = le.fit_transform(df['Type'])\n",
    "\n",
    "# Drop columns that are not needed for model training\n",
    "df.drop(['UDI', 'Product ID'], axis=1, inplace=True)\n",
    "\n",
    "# Save cleaned data back to the specified path\n",
    "df.to_csv(r'C:\\Users\\Naresh\\OneDrive\\Desktop\\Rooman\\ai4i2020_cleaned.csv', index=False)\n"
   ]
  },
  {
   "cell_type": "code",
   "execution_count": null,
   "id": "8d8e6720-6e97-404f-bcec-2ff7e842ccda",
   "metadata": {},
   "outputs": [],
   "source": []
  }
 ],
 "metadata": {
  "kernelspec": {
   "display_name": "Python [conda env:base] *",
   "language": "python",
   "name": "conda-base-py"
  },
  "language_info": {
   "codemirror_mode": {
    "name": "ipython",
    "version": 3
   },
   "file_extension": ".py",
   "mimetype": "text/x-python",
   "name": "python",
   "nbconvert_exporter": "python",
   "pygments_lexer": "ipython3",
   "version": "3.12.7"
  }
 },
 "nbformat": 4,
 "nbformat_minor": 5
}
